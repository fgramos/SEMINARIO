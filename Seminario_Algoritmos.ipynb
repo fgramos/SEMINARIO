{
 "cells": [
  {
   "cell_type": "markdown",
   "metadata": {
    "id": "hVbXYX-RfPWh"
   },
   "source": [
    "# Algoritmos de optimización - Seminario<br>\n",
    "Nombre y Apellidos:  Francisco González Ramos <br>\n",
    "Url: https://github.com/fgramos/SEMINARIO<br>\n",
    "Problema:\n",
    "> 1. Sesiones de doblaje <br>\n",
    "\n",
    "Descripción del problema:\n",
    "\n",
    "Se precisa coordinar el doblaje de una película. Los actores del doblaje deben coincidir en las\n",
    "tomas en las que sus personajes aparecen juntos en las diferentes tomas. Los actores de\n",
    "doblaje cobran todos la misma cantidad por cada día que deben desplazarse hasta el estudio de\n",
    "grabación independientemente del número de tomas que se graben. No es posible grabar más\n",
    "de 6 tomas por día. El objetivo es planificar las sesiones por día de manera que el gasto por los\n",
    "servicios de los actores de doblaje sea el menor posible. Los datos son:\n",
    "> Número de actores: 10\n",
    "> Número de tomas : 30\n",
    "> Actores/Tomas : https://bit.ly/36D8IuK\n",
    "- 1 indica que el actor participa en la toma\n",
    "- 0 en caso contrario\n",
    "\n",
    "(*) La respuesta es obligatoria                                      "
   ]
  },
  {
   "cell_type": "markdown",
   "metadata": {
    "id": "AiskKkzZfy4e"
   },
   "source": [
    "Tenemos que generar un máximo de 6 sesiones de doblaje diarias.\n",
    "\n",
    "    Las tomas son diferentes, pueden intervenir los mismos actores o distintos.\n",
    "\n",
    "    Para abordar el problema, podríamos agrupar en un mismo día 6 tomas diferentes.\n",
    "\n",
    "    Pero si coinciden todos los actores en las mismas tomas, el coste es menor, ya que si no coinciden los mismos actores en las tomas de ese día, hay que pagar a todos los actores, con lo que podemos tener costes de 1 dia de trabajo para un actor que ha hecho una única toma\n",
    "\n",
    "La solución ideal sería que en un día de trabajo (6 tomas) participaran los mismos actores en todas las tomas. \n",
    "Y si pudieramos agrupar esta solución todos los días hasta que se acaben las tomas, sería perfecto.\n",
    "\n",
    "Veamos las combinaciones de tomas que podemos hacer en cada día de trabajo\n"
   ]
  },
  {
   "cell_type": "markdown",
   "metadata": {
    "id": "3_-exlrTgLd-"
   },
   "source": [
    "(*)¿Cuantas posibilidades hay sin tener en cuenta las restricciones?<br>\n",
    "\n",
    "\n",
    "\n",
    "¿Cuantas posibilidades hay teniendo en cuenta todas las restricciones.\n",
    "\n",
    "\n"
   ]
  },
  {
   "cell_type": "markdown",
   "metadata": {
    "id": "WfCUqJyKhPcw"
   },
   "source": [
    "Respuesta"
   ]
  },
  {
   "cell_type": "markdown",
   "metadata": {
    "id": "iq6Fe32MgpDX"
   },
   "source": [
    "Las posibilidades que hay teniendo en cuenta las restricciones:\n",
    "\n",
    "1) Podemos grabar 6 escenas como máximo por día\n",
    "2) Tenemos 30 escenas en total en el ejemplo de doblaje\n",
    "3) Finalizar el doblaje cuanto antes (no es útil alargar rodaje con dias de menos de 6 sesiones)\n",
    "4) Minimizar el coste total de doblajes (a un actor se le paga lo mismo por una sesión que por seis, dentro del mismo día)\n",
    "\n",
    ">Tendremos que hacer 5 grupos de 6 sesiones para tener las 30 tomas en el mejor caso (hacer menos sesiones por día supone mas días)\n",
    "\n",
    ">Son combinaciones sin repetición, es decir: ${n \\choose k} = \\frac{n!}{k!(n-k)!}$ \n",
    "\n",
    ">En nuestro problema la complejidad será ${ Nº Total Sesiones \\choose Maximo Diario} = \\frac{Nº Total Sesiones!}{Maximo Diario!(Nº Total Sesiones-Maximo Diario)!}$\n",
    "\n",
    ">>${30 \\choose 6} = \\frac{30!}{6!(30-6)!} = \\frac{30 · 29 · 28 · 27 · 26 · 25 · 24!}{6! · 24!} = \\frac{30 · 29 · 28 · 27 · 26 · 25}{6!} = \\frac{427.518.000}{6 · 5 · 4 · 3 · 2 · 1}  = 593.775 $\n",
    "\n",
    "> 593.775 Soluciones distintas con sus costes asociados.\n",
    "\n",
    "Si no tenemos restricciones, no tendremos que hacer grupos de 6 escenas, con lo cual, podemos hacer todas las escenas en un día (suponiendo que la suma de tiempos no llegue a 24 horas y que nos de igual que los actores trabajen mas de 8 horas y sin pausa para el bocata) Por lo tanto, tendremos \n",
    "\n",
    "- No nos importa el orden de grabación de las escenas.\n",
    "- Podemos grabarlas alternativamente, ya que se montan por separado\n",
    "- Aunque nos sobra el dinero y no nos importa el coste, le pagamos un día de trabajo a cada uno\n",
    "\n",
    ">1 solución = pagamos 10 sesiones, 1 a cada actor\n"
   ]
  },
  {
   "cell_type": "markdown",
   "metadata": {
    "id": "dzynfVJahHoY"
   },
   "source": [
    "Modelo para el espacio de soluciones<br>\n",
    "(*) ¿Cual es la estructura de datos que mejor se adapta al problema? Argumentalo.(Es posible que hayas elegido una al principio y veas la necesidad de cambiar, arguméntalo)\n"
   ]
  },
  {
   "cell_type": "markdown",
   "metadata": {
    "id": "xFIJrOwKi2Ti"
   },
   "source": [
    "Respuesta"
   ]
  },
  {
   "cell_type": "code",
   "execution_count": null,
   "metadata": {
    "id": "38c-7-ejhJmA"
   },
   "outputs": [],
   "source": [
    "Utilizaremos una lista de listas para simular una matriz de Sesiones x actores ordenada, sesiones en filas y actores en columnas para almacenar las sesiones.\n",
    "\n",
    "Sesion = [1,2,3,4...9,10] = Sesion con actores 1,2,3,...N en posiciones 0,1,2,...,n-1 respectivamente, \n",
    "donde en cada posición habrá un 1 o un 0 dependiendo si el actor participa o no en la sesión de doblaje.\n",
    "\n"
   ]
  },
  {
   "cell_type": "markdown",
   "metadata": {
    "id": "7Z9U2W7bi-XS"
   },
   "source": [
    "Según el modelo para el espacio de soluciones<br>\n",
    "(*)¿Cual es la función objetivo?\n",
    "\n",
    "(*)¿Es un problema de maximización o minimización?"
   ]
  },
  {
   "cell_type": "markdown",
   "metadata": {
    "id": "hBalWLM7j1_d"
   },
   "source": [
    "Respuesta"
   ]
  },
  {
   "cell_type": "code",
   "execution_count": null,
   "metadata": {
    "id": "pDA-rg3Gj5Lz"
   },
   "outputs": [],
   "source": []
  },
  {
   "cell_type": "markdown",
   "metadata": {
    "id": "rlnTYgY1j6I2"
   },
   "source": [
    "Diseña un algoritmo para resolver el problema por fuerza bruta"
   ]
  },
  {
   "cell_type": "markdown",
   "metadata": {
    "id": "70rDgxYXkC8r"
   },
   "source": [
    "Respuesta"
   ]
  },
  {
   "cell_type": "code",
   "execution_count": 23,
   "metadata": {
    "id": "CJb5sQ0qkENy"
   },
   "outputs": [
    {
     "name": "stdout",
     "output_type": "stream",
     "text": [
      "Combinación mínima:[13, 16, 17, 18, 22, 23] coste:3\n",
      "Combinación mínima:[1, 12, 19, 26, 27, 29] coste:4\n",
      "Combinación mínima:[0, 2, 5, 6, 8, 14] coste:6\n",
      "Combinación mínima:[3, 4, 7, 11, 20, 21] coste:7\n",
      "Combinación mínima:[9, 10, 15, 24, 25, 28] coste:9\n",
      "Coste total:29  Sesiones consumidas:[13, 16, 17, 18, 22, 23, 1, 12, 19, 26, 27, 29, 0, 2, 5, 6, 8, 14, 3, 4, 7, 11, 20, 21, 9, 10, 15, 24, 25, 28]\n"
     ]
    }
   ],
   "source": [
    "import math           #Modulo de funciones matematicas. Se usa para exp\n",
    "import random         #Para generar valores aleatorios\n",
    "\n",
    "# inicializamos datos de tomas del problema en lista de listas TOMAS\n",
    "\n",
    "TOMAS =[[1,1,1,1,1,0,0,0,0,0], #1\n",
    "        [0,0,1,1,1,0,0,0,0,0], #2\n",
    "        [0,1,0,0,1,0,1,0,0,0], #3\n",
    "        [1,1,0,0,0,0,1,1,0,0], #4\n",
    "        [0,1,0,1,0,0,0,1,0,0], #5\n",
    "        [1,1,0,1,1,0,0,0,0,0], #6\n",
    "        [1,1,0,1,1,0,0,0,0,0], #7\n",
    "        [1,1,0,0,0,1,0,0,0,0], #8\n",
    "        [1,1,0,1,0,0,0,0,0,0], #9\n",
    "        [1,1,0,0,0,1,0,0,1,0], #10\n",
    "        [1,1,1,0,1,0,0,1,0,0],\n",
    "        [1,1,1,1,0,1,0,0,0,0],\n",
    "        [1,0,0,1,1,0,0,0,0,0],\n",
    "        [1,0,1,0,0,1,0,0,0,0],\n",
    "        [1,1,0,0,0,0,1,0,0,0],\n",
    "        [0,0,0,1,0,0,0,0,0,1],\n",
    "        [1,0,1,0,0,0,0,0,0,0],\n",
    "        [0,0,1,0,0,1,0,0,0,0],\n",
    "        [1,0,1,0,0,0,0,0,0,0],\n",
    "        [1,0,1,1,1,0,0,0,0,0],\n",
    "        [0,0,0,0,0,1,0,1,0,0],\n",
    "        [1,1,1,1,0,0,0,0,0,0],\n",
    "        [1,0,1,0,0,0,0,0,0,0],\n",
    "        [0,0,1,0,0,1,0,0,0,0],\n",
    "        [1,1,0,1,0,0,0,0,0,1],\n",
    "        [1,0,1,0,1,0,0,0,1,0],\n",
    "        [0,0,0,1,1,0,0,0,0,0],\n",
    "        [1,0,0,1,0,0,0,0,0,0],\n",
    "        [1,0,0,0,1,1,0,0,0,0],\n",
    "        [1,0,0,1,0,0,0,0,0,0]]\n",
    "\n",
    "# Funciones auxiliares\n",
    "\n",
    "def coste_diario( Mat_Tomas,a,b,c,d,e,f):\n",
    "    # Devuelve el coste de 6 sesiones especificadas en a,b,c,d,e,f del 0 al 29 \n",
    "    coste_total=0\n",
    "    for i in range(len(Mat_Tomas[a])):\n",
    "        #print( i)\n",
    "        if Mat_Tomas[a][i] == 1 or Mat_Tomas[b][i] == 1  or Mat_Tomas[c][i] == 1 or Mat_Tomas[d][i] == 1 or Mat_Tomas[e][i] == 1  or Mat_Tomas[f][i] == 1:\n",
    "            coste_total += 1\n",
    "    return coste_total\n",
    "    \n",
    "\n",
    "def selecciona_mejores(TOMAS,usadas):\n",
    "    contador = 0\n",
    "    coste_minimo = float('inf')                    #Inicializamos con un valor alto\n",
    "    combinacion_minima = []\n",
    "    ciclos = len(TOMAS) \n",
    "    \n",
    "    for i in range(ciclos):\n",
    "        if i not in usadas: # Si ya he seleccionado la sesión en una combinacion anterior, no lo uso\n",
    "            for j in range(i+1,ciclos):\n",
    "                if j not in usadas: # Si ya he seleccionado la sesión en una combinacion anterior, no lo uso\n",
    "                    for k in range(j+1,ciclos):\n",
    "                        if k not in usadas: # Si ya he seleccionado la sesión en una combinacion anterior, no lo uso\n",
    "                            for m in range(k+1,ciclos):\n",
    "                                if m not in usadas: # Si ya he seleccionado la sesión en una combinacion anterior, no lo uso\n",
    "                                    for n in range(m+1,ciclos):\n",
    "                                        if n not in usadas: # Si ya he seleccionado la sesión en una combinacion anterior, no lo uso\n",
    "                                            for o in range(n+1,ciclos):\n",
    "                                                if o not in usadas: # Si ya he seleccionado la sesión en una combinacion anterior, no lo uso\n",
    "                                                    contador += 1 #contador de operaciones\n",
    "                                                    coste_6_sesiones = coste_diario(TOMAS,i,j,k,m,n,o)\n",
    "                                                    if coste_minimo > coste_6_sesiones :\n",
    "                                                        coste_minimo = coste_6_sesiones\n",
    "                                                        combinacion_minima = [i,j,k,m,n,o]\n",
    "                                                        #print(combinacion_minima, coste_minimo,contador)\n",
    "    return combinacion_minima, coste_minimo\n",
    "\n",
    "def fuerza_bruta(TOMAS):\n",
    "    #bucle que recorrerá todas las posibilidades\n",
    "    ciclos = len(TOMAS)\n",
    "    #ciclos = 30\n",
    "    #contador = 0\n",
    "    coste_total = 0\n",
    "    sesiones_selectas = []\n",
    "    for dias in (range(5)):\n",
    "        c1,c2 = selecciona_mejores(TOMAS,sesiones_selectas)\n",
    "        sesiones_selectas.extend(c1)\n",
    "        coste_total += c2\n",
    "        print(f\"Combinación mínima:{c1} coste:{c2}\")\n",
    "    print(f\"Coste total:{coste_total}  Sesiones consumidas:{sesiones_selectas}\")\n",
    "    return \n",
    "\n",
    "fuerza_bruta(TOMAS)"
   ]
  },
  {
   "cell_type": "markdown",
   "metadata": {
    "id": "tgrnsC2nkFa8"
   },
   "source": [
    "Calcula la complejidad del algoritmo por fuerza bruta"
   ]
  },
  {
   "cell_type": "markdown",
   "metadata": {
    "id": "9eUd3xwckP68"
   },
   "source": [
    "Respuesta"
   ]
  },
  {
   "cell_type": "code",
   "execution_count": null,
   "metadata": {
    "id": "rvZWwL-ckRST"
   },
   "outputs": [],
   "source": []
  },
  {
   "cell_type": "markdown",
   "metadata": {
    "id": "txbrmLmskReM"
   },
   "source": [
    "(*)Diseña un algoritmo que mejore la complejidad del algortimo por fuerza bruta. Argumenta porque crees que mejora el algoritmo por fuerza bruta"
   ]
  },
  {
   "cell_type": "markdown",
   "metadata": {
    "id": "hLrVwt5QkZPD"
   },
   "source": [
    "Respuesta"
   ]
  },
  {
   "cell_type": "code",
   "execution_count": null,
   "metadata": {
    "id": "m1eyM21Vkabg"
   },
   "outputs": [],
   "source": []
  },
  {
   "cell_type": "markdown",
   "metadata": {
    "id": "eGDB4K6uk1iN"
   },
   "source": [
    "(*)Calcula la complejidad del algoritmo"
   ]
  },
  {
   "cell_type": "markdown",
   "metadata": {
    "id": "NhpTh_BPk1ms"
   },
   "source": [
    "Respuesta"
   ]
  },
  {
   "cell_type": "code",
   "execution_count": null,
   "metadata": {
    "id": "nREzhkStlCq8"
   },
   "outputs": [],
   "source": []
  },
  {
   "cell_type": "markdown",
   "metadata": {
    "id": "3M6QjTsSkmYe"
   },
   "source": [
    "Según el problema (y tenga sentido), diseña un juego de datos de entrada aleatorios"
   ]
  },
  {
   "cell_type": "markdown",
   "metadata": {
    "id": "Jc3_OlyNkvjZ"
   },
   "source": [
    "Respuesta"
   ]
  },
  {
   "cell_type": "code",
   "execution_count": null,
   "metadata": {
    "id": "sJ-N2etjkyWc"
   },
   "outputs": [],
   "source": []
  },
  {
   "cell_type": "markdown",
   "metadata": {
    "id": "zy5ZROmjlGo1"
   },
   "source": [
    "Aplica el algoritmo al juego de datos generado"
   ]
  },
  {
   "cell_type": "markdown",
   "metadata": {
    "id": "_Cmj-PVylMsa"
   },
   "source": [
    "Respuesta"
   ]
  },
  {
   "cell_type": "code",
   "execution_count": null,
   "metadata": {
    "id": "Jkx8GeiYlUz1"
   },
   "outputs": [],
   "source": []
  },
  {
   "cell_type": "markdown",
   "metadata": {
    "id": "eTFWUJQrtGcv"
   },
   "source": [
    "Enumera las referencias que has utilizado(si ha sido necesario) para llevar a cabo el trabajo"
   ]
  },
  {
   "cell_type": "markdown",
   "metadata": {
    "id": "YKQ_mRBttWsP"
   },
   "source": [
    "Respuesta"
   ]
  },
  {
   "cell_type": "markdown",
   "metadata": {
    "id": "kAkDPUyRtYyH"
   },
   "source": [
    "Describe brevemente las lineas de como crees que es posible avanzar en el estudio del problema. Ten en cuenta incluso posibles variaciones del problema y/o variaciones al alza del tamaño"
   ]
  },
  {
   "cell_type": "markdown",
   "metadata": {
    "id": "IE0uZmo-tZu-"
   },
   "source": [
    "Respuesta"
   ]
  }
 ],
 "metadata": {
  "colab": {
   "provenance": []
  },
  "kernelspec": {
   "display_name": "Python 3 (ipykernel)",
   "language": "python",
   "name": "python3"
  },
  "language_info": {
   "codemirror_mode": {
    "name": "ipython",
    "version": 3
   },
   "file_extension": ".py",
   "mimetype": "text/x-python",
   "name": "python",
   "nbconvert_exporter": "python",
   "pygments_lexer": "ipython3",
   "version": "3.11.11"
  }
 },
 "nbformat": 4,
 "nbformat_minor": 4
}
